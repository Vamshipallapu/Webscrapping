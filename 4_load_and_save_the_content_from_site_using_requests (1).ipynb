{
  "nbformat": 4,
  "nbformat_minor": 0,
  "metadata": {
    "colab": {
      "provenance": []
    },
    "kernelspec": {
      "name": "python3",
      "display_name": "Python 3"
    },
    "language_info": {
      "name": "python"
    }
  },
  "cells": [
    {
      "cell_type": "code",
      "execution_count": 1,
      "metadata": {
        "colab": {
          "base_uri": "https://localhost:8080/"
        },
        "id": "iXeHdxyrTV8h",
        "outputId": "3768f285-0d82-4feb-cdba-829fd09c85f6"
      },
      "outputs": [
        {
          "output_type": "stream",
          "name": "stdout",
          "text": [
            "Mounted at /content/drive\n"
          ]
        }
      ],
      "source": [
        "from google.colab import drive\n",
        "drive.mount('/content/drive')"
      ]
    },
    {
      "cell_type": "code",
      "source": [
        "import urllib.request\n",
        "import ssl\n",
        "import os\n",
        "\n",
        "# # Disable SSL certificate verification\n",
        "ssl_context = ssl.create_default_context()\n",
        "ssl_context.check_hostname = False\n",
        "ssl_context.verify_mode = ssl.CERT_NONE\n",
        "\n",
        "\n",
        "# # To get current working Directory\n",
        "current_directory = os.getcwd()\n",
        "print(\"Current working directory:\", current_directory)\n",
        "\n",
        "\n",
        "link=\"https://www.samsclub.com/robots.txt\"\n",
        "import requests\n",
        "content = requests.get(link).content\n",
        "content\n",
        "\n",
        "# Define the directory path\n",
        "directory_path = os.path.join(os.getcwd(), 'content')\n",
        "\n",
        "# Create the 'contents' directory if it doesn't exist\n",
        "if not os.path.exists(directory_path):\n",
        "    os.makedirs(directory_path)\n",
        "\n",
        "\n",
        "\n",
        "\n",
        "# #b'<?xml version=\"1.0\" encoding=\"UTF-8\"?>\\n<sitemapindex xmlns=\"http://www.sitemaps.org/schemas/sitemap/0.9\">\\n<sitemap><loc>https://www.samsclub.com/sitemap_categories.xml</loc></sitemap>\\n<sitemap><loc>https://www.samsclub.com/sitemap_products_1.xml</loc></sitemap>\\n<sitemap><loc>https://www.samsclub.com/sitemap_products_2.xml</loc></sitemap>\\n<sitemap><loc>https://www.samsclub.com/sitemap_locators.xml</loc></sitemap>\\n</sitemapindex>'\n",
        "\n",
        "content = requests.get(link).content\n",
        "content.decode() # decoding 'content' , decode('utf-8')\n",
        "\n",
        "\n",
        "#closes the file handle\n",
        "\n"
      ],
      "metadata": {
        "colab": {
          "base_uri": "https://localhost:8080/",
          "height": 261
        },
        "id": "rxcTFYcwUY49",
        "outputId": "6a5bc831-4c5b-4904-a5c5-844364f103c4"
      },
      "execution_count": 11,
      "outputs": [
        {
          "output_type": "stream",
          "name": "stdout",
          "text": [
            "Current working directory: /content\n"
          ]
        },
        {
          "output_type": "execute_result",
          "data": {
            "text/plain": [
              "'# robots.txt generated for samsclub.com\\n\\n#Paths\\nUser-agent: *\\nDisallow: /catalog/search/\\nDisallow: /s/\\nDisallow: *SCDC=1*\\nDisallow: /*?bvroute\\nDisallow: /list/\\nDisallow: */samsclub/0\\nDisallow: /catalog/product/\\nDisallow: /catalog/productreviews/\\nDisallow: /locator?returnRoute\\nDisallow: /myinstantsavings/details/\\nDisallow: /sams/subscription/\\nDisallow: /account/\\nAllow: /sams/account/referal/\\nAllow: /sams/account/signin/login.jsp\\nAllow: /sams/account/signin/createSession.jsp\\nAllow: /sams/account/registration/registration.jsp\\nAllow: /sams/account/membership/renewMembership.jsp\\nDisallow: /managepreferences/\\nDisallow: /checkout/\\nDisallow: /cart/\\nDisallow: /search/\\nDisallow: /pharmacy/login/\\nDisallow: /cgi-bin/\\nDisallow: /friend\\nDisallow: /content/delivery-offer\\nDisallow: /tracking/\\nDisallow: /api/\\nDisallow: /midas/\\n\\n#Files\\nDisallow: /sams/eValues/clubInsiderOffers.jsp\\nDisallow: */popupContent.jsp\\nAllow: /ads.txt\\n\\n#Sitemap\\nSitemap: https://www.samsclub.com/sitemap.xml\\n\\n#JIRA-https://jira.walmart.com/browse/SAINFRA-1394\\nDisallow: /r/\\nDisallow: /savingslanding\\n# removing Disallow: /savings as part of https://jira.walmart.com/browse/SAINFRA-1419'"
            ],
            "application/vnd.google.colaboratory.intrinsic+json": {
              "type": "string"
            }
          },
          "metadata": {},
          "execution_count": 11
        }
      ]
    },
    {
      "cell_type": "markdown",
      "source": [
        "**To Find the Charset in the HTTP Header**"
      ],
      "metadata": {
        "id": "SV_tUY_-t0ur"
      }
    },
    {
      "cell_type": "code",
      "source": [
        "import urllib.request\n",
        "#URL= \"https://www.samsclub.com/robots.txt\"\n",
        "someRequest = urllib.request.urlopen(\"https://www.samsclub.com/robots.txt\") #load/Open the URL\n",
        "headers=someRequest.info()\n",
        "\n",
        "# Print the headers one by one\n",
        "for header_name, header_value in headers.items():\n",
        "    print(f\"{header_name}: {header_value}\")\n",
        "\n",
        "#urllib.request.get_headers(\"Content-Type\") #return value of header 'Content-Type'\n",
        "\n",
        "#'text/html; charset=ISO-8859-1' or 'utf-8'"
      ],
      "metadata": {
        "colab": {
          "base_uri": "https://localhost:8080/"
        },
        "id": "WJEYpu68t4qU",
        "outputId": "6d64a0b6-eade-489c-b15d-db2ee6f84ecf"
      },
      "execution_count": 20,
      "outputs": [
        {
          "output_type": "stream",
          "name": "stdout",
          "text": [
            "Content-Type: text/plain\n",
            "Last-Modified: Thu, 28 Sep 2023 23:55:35 GMT\n",
            "Server-Timing: product;desc=\"edge\",host;desc=\"09ec5da0b8fb\",dc;desc=\"7f8e6dc\",fetch-ms;dur=26,req-proc-ms;dur=0,resp-proc-ms;dur=2\n",
            "X-Ms-File-Attributes: Archive\n",
            "X-Ms-File-Change-Time: 2023-09-28T23:55:35.5984706Z\n",
            "X-Ms-File-Creation-Time: 2023-09-28T23:55:34.9908268Z\n",
            "X-Ms-File-Id: 13835074135639719936\n",
            "X-Ms-File-Last-Write-Time: 2023-09-28T23:55:35.5984706Z\n",
            "X-Ms-File-Parent-Id: 13835128424026341376\n",
            "X-Ms-File-Permission-Key: 8844004255778769733*15140221525456675787\n",
            "X-Ms-Lease-State: available\n",
            "X-Ms-Lease-Status: unlocked\n",
            "X-Ms-Request-Id: da17d435-f01a-0006-30e0-fa2a95000000\n",
            "X-Ms-Server-Encrypted: true\n",
            "X-Ms-Type: File\n",
            "X-Ms-Version: 2022-11-02\n",
            "X-Tb: 0\n",
            "Vary: Accept-Encoding\n",
            "Date: Mon, 09 Oct 2023 18:44:08 GMT\n",
            "Content-Length: 1154\n",
            "Connection: close\n",
            "Server-Timing: edge; dur=1\n",
            "Server-Timing: origin; dur=89\n",
            "Server-Timing: cdn-cache; desc=MISS\n",
            "Set-Cookie: akavpau_P1_Sitewide=1696877648~id=ff3f7d1b73439428581e21137f07a7ae; Path=/; HttpOnly; Secure; SameSite=None\n",
            "X-XSS-Protection: 1; mode=block\n",
            "X-Content-Type-Options: nosniff\n",
            "Strict-Transport-Security: max-age=63072000; includeSubDomains; preload\n",
            "Akamai-GRN: 0.46403617.1696877048.37805734\n",
            "Server-Timing: ak_p; desc=\"1696877048066_389431366_931157812_8987_6590_8_15_-\";dur=1\n"
          ]
        }
      ]
    }
  ]
}