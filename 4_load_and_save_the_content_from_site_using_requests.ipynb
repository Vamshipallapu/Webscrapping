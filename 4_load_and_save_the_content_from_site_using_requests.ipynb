{
  "nbformat": 4,
  "nbformat_minor": 0,
  "metadata": {
    "colab": {
      "provenance": []
    },
    "kernelspec": {
      "name": "python3",
      "display_name": "Python 3"
    },
    "language_info": {
      "name": "python"
    }
  },
  "cells": [
    {
      "cell_type": "code",
      "execution_count": 1,
      "metadata": {
        "colab": {
          "base_uri": "https://localhost:8080/"
        },
        "id": "iXeHdxyrTV8h",
        "outputId": "3768f285-0d82-4feb-cdba-829fd09c85f6"
      },
      "outputs": [
        {
          "output_type": "stream",
          "name": "stdout",
          "text": [
            "Mounted at /content/drive\n"
          ]
        }
      ],
      "source": [
        "from google.colab import drive\n",
        "drive.mount('/content/drive')"
      ]
    },
    {
      "cell_type": "code",
      "source": [
        "import urllib.request\n",
        "import ssl\n",
        "import os\n",
        "\n",
        "# # Disable SSL certificate verification\n",
        "ssl_context = ssl.create_default_context()\n",
        "ssl_context.check_hostname = False\n",
        "ssl_context.verify_mode = ssl.CERT_NONE\n",
        "\n",
        "\n",
        "# # To get current working Directory\n",
        "current_directory = os.getcwd()\n",
        "print(\"Current working directory:\", current_directory)\n",
        "\n",
        "\n",
        "link=\"https://www.samsclub.com/robots.txt\"\n",
        "import requests\n",
        "content = requests.get(link).content\n",
        "content\n",
        "\n",
        "# Define the directory path\n",
        "directory_path = os.path.join(os.getcwd(), 'content')\n",
        "\n",
        "# Create the 'contents' directory if it doesn't exist\n",
        "if not os.path.exists(directory_path):\n",
        "    os.makedirs(directory_path)\n",
        "\n",
        "\n",
        "\n",
        "\n",
        "# #b'<?xml version=\"1.0\" encoding=\"UTF-8\"?>\\n<sitemapindex xmlns=\"http://www.sitemaps.org/schemas/sitemap/0.9\">\\n<sitemap><loc>https://www.samsclub.com/sitemap_categories.xml</loc></sitemap>\\n<sitemap><loc>https://www.samsclub.com/sitemap_products_1.xml</loc></sitemap>\\n<sitemap><loc>https://www.samsclub.com/sitemap_products_2.xml</loc></sitemap>\\n<sitemap><loc>https://www.samsclub.com/sitemap_locators.xml</loc></sitemap>\\n</sitemapindex>'\n",
        "\n",
        "file = open(os.getcwd()+os.sep+\"content\"+os.sep+\"robots.txt\",\"wb\") #Creating a file robots.txt inside directory 'contents' that exist under current working directory (os.getcwd())\n",
        "\n",
        "\n",
        "file.write(content) #writing content to file robots.txt opened in line above. If the file doesn't exist inside directory 'contents', Python will throw exception \"File not Found\"\n",
        "\n",
        "file.close() #closes the file handle\n",
        "\n"
      ],
      "metadata": {
        "colab": {
          "base_uri": "https://localhost:8080/"
        },
        "id": "rxcTFYcwUY49",
        "outputId": "de936e6f-a632-4fb1-9f6d-46815c31f922"
      },
      "execution_count": 9,
      "outputs": [
        {
          "output_type": "stream",
          "name": "stdout",
          "text": [
            "Current working directory: /content\n"
          ]
        }
      ]
    }
  ]
}